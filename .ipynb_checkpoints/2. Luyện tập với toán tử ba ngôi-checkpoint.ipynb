{
 "cells": [
  {
   "cell_type": "code",
   "execution_count": 3,
   "id": "6da0066e",
   "metadata": {},
   "outputs": [
    {
     "name": "stdout",
     "output_type": "stream",
     "text": [
      "Nhập vào số nguyên a: 3\n",
      "3.0 là số lẻ\n"
     ]
    }
   ],
   "source": [
    "a = float(input(\"Nhập vào số nguyên a: \"))\n",
    "if a%2 == 0:\n",
    "    print(a,\"là số chẵn\")\n",
    "else:\n",
    "    print(a,\"là số lẻ\")"
   ]
  }
 ],
 "metadata": {
  "kernelspec": {
   "display_name": "Python 3 (ipykernel)",
   "language": "python",
   "name": "python3"
  },
  "language_info": {
   "codemirror_mode": {
    "name": "ipython",
    "version": 3
   },
   "file_extension": ".py",
   "mimetype": "text/x-python",
   "name": "python",
   "nbconvert_exporter": "python",
   "pygments_lexer": "ipython3",
   "version": "3.10.6"
  }
 },
 "nbformat": 4,
 "nbformat_minor": 5
}
